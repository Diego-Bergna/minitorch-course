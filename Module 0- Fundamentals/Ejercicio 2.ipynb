{
 "cells": [
  {
   "cell_type": "markdown",
   "id": "3faa618d",
   "metadata": {},
   "source": [
    "# Module 0- Fundamentals"
   ]
  },
  {
   "cell_type": "markdown",
   "id": "e29f1041",
   "metadata": {},
   "source": [
    "## Task 0.1"
   ]
  },
  {
   "cell_type": "code",
   "execution_count": null,
   "id": "9b00c9d7",
   "metadata": {},
   "outputs": [],
   "source": [
    "# ./minitorch/operators.py"
   ]
  },
  {
   "cell_type": "code",
   "execution_count": null,
   "id": "19fd5c65",
   "metadata": {},
   "outputs": [],
   "source": [
    "import math\n",
    "\n",
    "## Task 0.1\n",
    "## Mathematical operators\n",
    "\n",
    "\n",
    "def mul(x, y):\n",
    "    return x * y\n",
    "    # TODO: Implement for Task 0.1.\n",
    "    raise NotImplementedError('Need to implement for Task 0.1')\n",
    "\n",
    "\n",
    "def id(x):\n",
    "    return x\n",
    "    # TODO: Implement for Task 0.1.\n",
    "    raise NotImplementedError('Need to implement for Task 0.1')\n",
    "\n",
    "\n",
    "def add(x, y):\n",
    "    return x + y\n",
    "    # TODO: Implement for Task 0.1.\n",
    "    raise NotImplementedError('Need to implement for Task 0.1')\n",
    "\n",
    "\n",
    "def neg(x):\n",
    "    return - x\n",
    "    # TODO: Implement for Task 0.1.\n",
    "    raise NotImplementedError('Need to implement for Task 0.1')\n",
    "\n",
    "\n",
    "def lt(x, y):\n",
    "    return 1 if x < y else 0\n",
    "    # TODO: Implement for Task 0.1.\n",
    "    raise NotImplementedError('Need to implement for Task 0.1')\n",
    "\n",
    "\n",
    "def eq(x, y):\n",
    "    return 1 if x == y else 0\n",
    "    # TODO: Implement for Task 0.1.\n",
    "    raise NotImplementedError('Need to implement for Task 0.1')\n",
    "\n",
    "\n",
    "def max(x, y):\n",
    "    return x if x > y else y\n",
    "    # TODO: Implement for Task 0.1.\n",
    "    raise NotImplementedError('Need to implement for Task 0.1')\n",
    "\n",
    "\n",
    "def sigmoid(x):\n",
    "    return (1 / (1 + math.exp(-x))) if x >= 0 else (math.exp(x) / (1 + math.exp(x)))\n",
    "    # TODO: Implement for Task 0.1\n",
    "    raise NotImplementedError('Need to implement for Task 0.1')\n",
    "\n",
    "\n",
    "def relu(x):\n",
    "    return x if x > 0 else 0\n",
    "    # TODO: Implement for Task 0.1.\n",
    "    raise NotImplementedError('Need to implement for Task 0.1')\n",
    "\n",
    "\n",
    "def relu_back(x, y):\n",
    "    return y if x > 0 else 0\n",
    "    # TODO: Implement for Task 0.1.\n",
    "    raise NotImplementedError('Need to implement for Task 0.1')"
   ]
  },
  {
   "cell_type": "markdown",
   "id": "88cac7b2",
   "metadata": {},
   "source": [
    "### Evidencia task_0.1\n",
    "\n",
    "![img3](imgs/img3.jpg)"
   ]
  },
  {
   "cell_type": "markdown",
   "id": "c9f8c781",
   "metadata": {},
   "source": [
    "## Task 0.2"
   ]
  },
  {
   "cell_type": "code",
   "execution_count": null,
   "id": "c0dfd1af",
   "metadata": {},
   "outputs": [],
   "source": [
    "# ./test/test_operators.py"
   ]
  },
  {
   "cell_type": "code",
   "execution_count": null,
   "id": "21ca7b22",
   "metadata": {},
   "outputs": [],
   "source": [
    "@pytest.mark.task0_2\n",
    "@given(small_floats, small_floats)\n",
    "def test_symmetric(a, b):\n",
    "    \"\"\"\n",
    "    Write a test that ensures that :func:`minitorch.operators.mul` is symmetric, i.e.\n",
    "    gives the same value regardless of the order of its input.\n",
    "    \"\"\"\n",
    "    assert operators.mul(a, b) == b * a\n",
    "    assert operators.mul(a, b) == operators.mul(b, a)\n",
    "    # TODO: Implement for Task 0.2.\n",
    "\n",
    "\n",
    "@pytest.mark.task0_2\n",
    "@given(small_floats, small_floats, small_floats)\n",
    "def test_distribute(a, b, c):\n",
    "    \"\"\"\n",
    "    Write a test that ensures that your operators distribute, i.e.\n",
    "    :math:`z \\times (x + y) = z \\times x + z \\times y`\n",
    "    \"\"\"\n",
    "    assert_close(operators.mul(c, operators.add(a, b)), operators.add(operators.mul(a, c), operators.mul(b, c)))\n",
    "    # TODO: Implement for Task 0.2.\n",
    "\n",
    "\n",
    "@pytest.mark.task0_2\n",
    "@given(small_floats, small_floats)\n",
    "def test_other(a, b):\n",
    "    \"\"\"\n",
    "    Write a test that ensures some other property holds for your functions.\n",
    "    \"\"\"\n",
    "    assert operators.max(a, b) == operators.max(b, a)\n",
    "    # TODO: Implement for Task 0.2."
   ]
  },
  {
   "cell_type": "markdown",
   "id": "b845ffae",
   "metadata": {},
   "source": [
    "### Evidencia task_0.2\n",
    "\n",
    "![img4](imgs/img4.jpg)"
   ]
  },
  {
   "cell_type": "markdown",
   "id": "a3c9b8c7",
   "metadata": {},
   "source": [
    "## Task 0.3"
   ]
  },
  {
   "cell_type": "code",
   "execution_count": null,
   "id": "651d24a6",
   "metadata": {},
   "outputs": [],
   "source": [
    "# ./minitorch/operators.py"
   ]
  },
  {
   "cell_type": "code",
   "execution_count": null,
   "id": "2bf3e19b",
   "metadata": {},
   "outputs": [],
   "source": [
    "def map(fn):\n",
    "    \"\"\"\n",
    "    Higher-order map.\n",
    "\n",
    "    .. image:: figs/Ops/maplist.png\n",
    "\n",
    "\n",
    "    See `<https://en.wikipedia.org/wiki/Map_(higher-order_function)>`_\n",
    "\n",
    "    Args:\n",
    "        fn (one-arg function): process one value\n",
    "\n",
    "    Returns:\n",
    "        function : a function that takes a list and applies `fn` to each element\n",
    "    \"\"\"\n",
    "    def map_aux(lista):\n",
    "        return [fn(x) for x in lista]\n",
    "    \n",
    "    return map_aux\n",
    "    # TODO: Implement for Task 0.3.\n",
    "    raise NotImplementedError('Need to implement for Task 0.3')\n",
    "\n",
    "\n",
    "def negList(ls):\n",
    "    \"Use :func:`map` and :func:`neg` to negate each element in `ls`\"\n",
    "    return map(neg)(ls)\n",
    "\n",
    "\n",
    "def zipWith(fn):\n",
    "    \"\"\"\n",
    "    Higher-order zipwith (or map2).\n",
    "\n",
    "    .. image:: figs/Ops/ziplist.png\n",
    "\n",
    "    See `<https://en.wikipedia.org/wiki/Map_(higher-order_function)>`_\n",
    "\n",
    "    Args:\n",
    "        fn (two-arg function): combine two values\n",
    "\n",
    "    Returns:\n",
    "        function : takes two equally sized lists `ls1` and `ls2`, produce a new list by\n",
    "        applying fn(x, y) one each pair of elements.\n",
    "\n",
    "    \"\"\"\n",
    "    def zip_aux(l1, l2):\n",
    "        return [fn(l1[i], l2[i]) for i in range(len(l1))]\n",
    "    return zip_aux\n",
    "    # TODO: Implement for Task 0.3.\n",
    "    raise NotImplementedError('Need to implement for Task 0.3')\n",
    "\n",
    "\n",
    "def addLists(ls1, ls2):\n",
    "    \"Add the elements of `ls1` and `ls2` using :func:`zipWith` and :func:`add`\"\n",
    "    return zipWith(add)(ls1, ls2)\n",
    "\n",
    "\n",
    "def reduce(fn, start):\n",
    "    r\"\"\"\n",
    "    Higher-order reduce.\n",
    "\n",
    "    .. image:: figs/Ops/reducelist.png\n",
    "\n",
    "\n",
    "    Args:\n",
    "        fn (two-arg function): combine two values\n",
    "        start (float): start value :math:`x_0`\n",
    "\n",
    "    Returns:\n",
    "        function : function that takes a list `ls` of elements\n",
    "        :math:`x_1 \\ldots x_n` and computes the reduction :math:`fn(x_3, fn(x_2,\n",
    "        fn(x_1, x_0)))`\n",
    "\n",
    "    \"\"\"\n",
    "    def reduce_aux(ls):\n",
    "        aux = start\n",
    "        for e in ls:\n",
    "            aux = fn(aux, e)\n",
    "        return aux\n",
    "    return reduce_aux\n",
    "    # TODO: Implement for Task 0.3.\n",
    "    raise NotImplementedError('Need to implement for Task 0.3')\n",
    "\n",
    "\n",
    "def sum(ls):\n",
    "    \"\"\"\n",
    "    Sum up a list using :func:`reduce` and :func:`add`.\n",
    "    \"\"\"\n",
    "    return reduce(add, 0)(ls)\n",
    "    # TODO: Implement for Task 0.3.\n",
    "    raise NotImplementedError('Need to implement for Task 0.3')\n",
    "\n",
    "\n",
    "def prod(ls):\n",
    "    \"\"\"\n",
    "    Product of a list using :func:`reduce` and :func:`mul`.\n",
    "    \"\"\"\n",
    "    return reduce(mul, 1)(ls)\n",
    "    # TODO: Implement for Task 0.3.\n",
    "    raise NotImplementedError('Need to implement for Task 0.3')"
   ]
  },
  {
   "cell_type": "code",
   "execution_count": null,
   "id": "3886f59a",
   "metadata": {},
   "outputs": [],
   "source": [
    "# ./test/test_operators.py"
   ]
  },
  {
   "cell_type": "code",
   "execution_count": null,
   "id": "2f21fabd",
   "metadata": {},
   "outputs": [],
   "source": [
    "@pytest.mark.task0_3\n",
    "@given(\n",
    "    lists(small_floats, min_size=5, max_size=5),\n",
    "    lists(small_floats, min_size=5, max_size=5),\n",
    ")\n",
    "def test_property(ls1, ls2):\n",
    "    \"\"\"\n",
    "    Write a test that ensures that the sum of `ls1` plus the sum of `ls2`\n",
    "    is the same as the sum of each element of `ls1` plus each element of `ls2`.\n",
    "    \"\"\"\n",
    "    assert_close(operators.add(operators.sum(ls1), operators.sum(ls2)), operators.sum(operators.zipWith(operators.add)(ls1, ls2)))\n",
    "    # TODO: Implement for Task 0.3."
   ]
  },
  {
   "cell_type": "markdown",
   "id": "c6f158b9",
   "metadata": {},
   "source": [
    "### Evidencia task_0.3\n",
    "\n",
    "![img5](imgs/img5.jpg)"
   ]
  },
  {
   "cell_type": "markdown",
   "id": "f15d9cbe",
   "metadata": {},
   "source": [
    "## Task 0.4"
   ]
  },
  {
   "cell_type": "code",
   "execution_count": null,
   "id": "695ce56a",
   "metadata": {},
   "outputs": [],
   "source": [
    "# ./minitorch/module.py"
   ]
  },
  {
   "cell_type": "code",
   "execution_count": null,
   "id": "f5a99638",
   "metadata": {},
   "outputs": [],
   "source": [
    "class Module:\n",
    "    \"\"\"\n",
    "    Attributes:\n",
    "        _modules (dict of name x :class:`Module`): Storage of the child modules\n",
    "        _parameters (dict of name x :class:`Parameter`): Storage of the module's parameters\n",
    "        mode (string): Mode of operation, can be {\"train\", \"eval\"}.\n",
    "\n",
    "    \"\"\"\n",
    "    #Codigo...\n",
    "    \n",
    "    def train(self):\n",
    "        \"Set the mode of this module and all descendent modules to `train`.\"\n",
    "        # TODO: Implement for Task 0.4.\n",
    "        self.mode = \"train\"\n",
    "        for e in self.modules():\n",
    "            e.mode = \"train\"\n",
    "\n",
    "    def eval(self):\n",
    "        \"Set the mode of this module and all descendent modules to `eval`.\"\n",
    "        self.mode = \"eval\"\n",
    "        for e in self.modules():\n",
    "            e.mode = \"eval\"\n",
    "        # TODO: Implement for Task 0.4.      \n",
    "\n",
    "    def named_parameters(self):\n",
    "        \"\"\"\n",
    "        Collect all the parameters of this module and its descendents.\n",
    "\n",
    "\n",
    "        Returns:\n",
    "            dict: Each name (key) and :class:`Parameter` (value) under this module.\n",
    "        \"\"\"\n",
    "        _dict = self._parameters\n",
    "            \n",
    "        for key, module in self._modules.items():\n",
    "            aux = module.named_parameters()\n",
    "            for k, v in aux.items():\n",
    "                _dict[key + \".\" + k] = v\n",
    "            \n",
    "        return _dict\n",
    "        \n",
    "        # TODO: Implement for Task 0.4."
   ]
  },
  {
   "cell_type": "markdown",
   "id": "46f94e47",
   "metadata": {},
   "source": [
    "### Evidencia task_0.4\n",
    "\n",
    "![img6](imgs/img6.jpg)"
   ]
  },
  {
   "cell_type": "markdown",
   "id": "21917dcd",
   "metadata": {},
   "source": [
    "## Task 0.5"
   ]
  },
  {
   "cell_type": "code",
   "execution_count": null,
   "id": "571a9e85",
   "metadata": {},
   "outputs": [],
   "source": [
    "from project.datasets import Simple, Split, Xor\n",
    "N = 100\n",
    "Simple(N, vis=True).graph(\"initial\")\n"
   ]
  },
  {
   "cell_type": "markdown",
   "id": "1b4f1b15",
   "metadata": {},
   "source": [
    "![img1](imgs/img1.jpg)"
   ]
  },
  {
   "cell_type": "code",
   "execution_count": null,
   "id": "c240a734",
   "metadata": {},
   "outputs": [],
   "source": [
    "def classify(pt):\n",
    "    \"Classify based on x position\"\n",
    "    if pt[0] > 0.8 or pt[0] < 0.2:\n",
    "        return 1.0\n",
    "    else:\n",
    "        return 0.0\n",
    "\n",
    "Split(N, vis=True).graph(\"initial\", model=classify)"
   ]
  },
  {
   "cell_type": "markdown",
   "id": "e2f0a767",
   "metadata": {},
   "source": [
    "![](imgs/img2.jpg)"
   ]
  },
  {
   "cell_type": "code",
   "execution_count": null,
   "id": "ef96fd35",
   "metadata": {},
   "outputs": [],
   "source": []
  }
 ],
 "metadata": {
  "kernelspec": {
   "display_name": "Python 3",
   "language": "python",
   "name": "python3"
  },
  "language_info": {
   "codemirror_mode": {
    "name": "ipython",
    "version": 3
   },
   "file_extension": ".py",
   "mimetype": "text/x-python",
   "name": "python",
   "nbconvert_exporter": "python",
   "pygments_lexer": "ipython3",
   "version": "3.9.4"
  }
 },
 "nbformat": 4,
 "nbformat_minor": 5
}
