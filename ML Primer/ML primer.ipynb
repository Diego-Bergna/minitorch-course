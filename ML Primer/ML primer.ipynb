{
 "cells": [
  {
   "cell_type": "markdown",
   "id": "4e4a1f6a",
   "metadata": {},
   "source": [
    "### Importanto el módulo minitorch"
   ]
  },
  {
   "cell_type": "code",
   "execution_count": 1,
   "id": "b83a62c4",
   "metadata": {},
   "outputs": [],
   "source": [
    "import minitorch"
   ]
  },
  {
   "cell_type": "code",
   "execution_count": 2,
   "id": "51a8ff34",
   "metadata": {},
   "outputs": [
    {
     "name": "stdout",
     "output_type": "stream",
     "text": [
      "Name: minitorch\n",
      "Version: 0.1\n",
      "Summary: UNKNOWN\n",
      "Home-page: UNKNOWN\n",
      "Author: None\n",
      "Author-email: None\n",
      "License: UNKNOWN\n",
      "Location: d:\\diego\\21-1\\ia\\minitorch\\module0\\module-0\n",
      "Requires: \n",
      "Required-by: \n"
     ]
    }
   ],
   "source": [
    "!pip show minitorch"
   ]
  },
  {
   "cell_type": "markdown",
   "id": "6ca1463d",
   "metadata": {},
   "source": [
    "# ML Primer"
   ]
  },
  {
   "cell_type": "markdown",
   "id": "59ad1b7b",
   "metadata": {},
   "source": [
    "ML primer es usado para ayudar a entender la clasificación binaria supervisada en redes neuronales.\n",
    "El objetivo de esta es de enseñarnos lo básico de la clasificación de puntos simples usando redes neuronales."
   ]
  },
  {
   "cell_type": "markdown",
   "id": "ec5a582a",
   "metadata": {},
   "source": [
    "![Imagen01](imgs/img01.png)"
   ]
  },
  {
   "cell_type": "markdown",
   "id": "e5af793a",
   "metadata": {},
   "source": [
    "## Datasets"
   ]
  },
  {
   "cell_type": "markdown",
   "id": "51083456",
   "metadata": {},
   "source": [
    "Los problemas de aprendizaje supervisado trabajan con una dataset con una propiedad de etiqueta, para poder realizar la clasificación. Si tuviesemos un conjunto de datos etiquetas, tomando coordenadas $x_1$ y $x_2$ y su etiqueta respectiva $y$. Siendo esta última con etiquetas $\\textbf{O}$ o $\\textbf{X}$. Se puede presentar un ejemplo de este data set en la siguiente imagen:"
   ]
  },
  {
   "cell_type": "markdown",
   "id": "7fd5b06b",
   "metadata": {},
   "source": [
    "![Image2](imgs/img02.png) ![Image3](imgs/img03.png)"
   ]
  },
  {
   "cell_type": "markdown",
   "id": "412d780c",
   "metadata": {},
   "source": [
    "Un conjunto de datos conformado por diferentes formas puede ser el hecho por imagenes de los numeros $\\textbf{8}$ y $\\textbf{2}$ escritos a mano."
   ]
  },
  {
   "cell_type": "markdown",
   "id": "411bc00a",
   "metadata": {},
   "source": [
    "![Image4](imgs/img04.png)"
   ]
  },
  {
   "cell_type": "markdown",
   "id": "3fa11d59",
   "metadata": {},
   "source": [
    "## Model"
   ]
  },
  {
   "cell_type": "markdown",
   "id": "b7918f09",
   "metadata": {},
   "source": [
    "El sistema de Machine Learning necesita que se le escifique que tipo de modelo se desea usar para poder realizar el $fit$ o ajuste. En 2 dimensiones se puede visualizar el modelo gracias a sus límites de decisión ($decision$ $boundary$). Para el conjunto de datos simples mostrados anteriormente, se tiene el siguiente modelo:"
   ]
  },
  {
   "cell_type": "markdown",
   "id": "f6f9f248",
   "metadata": {},
   "source": [
    "![Image6](imgs/img06.png)"
   ]
  },
  {
   "cell_type": "markdown",
   "id": "67173749",
   "metadata": {},
   "source": [
    "Estas visualizaciones nos ayudan a analizar que tan bien está realizando su labor el modelo."
   ]
  },
  {
   "cell_type": "markdown",
   "id": "97858bc9",
   "metadata": {},
   "source": [
    "Generalmente los modelos no son tan simples como el mostrado. Existen modelos que tiene límites de decisión con formas extrañas y separadas de otras regiones. Por ejemplo, el siguiente modelo:"
   ]
  },
  {
   "cell_type": "markdown",
   "id": "a179d570",
   "metadata": {},
   "source": [
    "![Image7](imgs/img08.png)"
   ]
  },
  {
   "cell_type": "markdown",
   "id": "5daa3ec2",
   "metadata": {},
   "source": [
    "Las clases de modelo son las que especifican que forma tendra el mismo. Como no se puede saber con certeza como se ve el conjunto de datos con el que se quiere trabajar, necesitamos que el sistema explore la data por nosotros.\n",
    "\n",
    "La primera clase modelo a tomar en cuenta son los modelos lineales. Tomando en cuenta la data, estos modelos los seccionan a través de líneas."
   ]
  },
  {
   "cell_type": "markdown",
   "id": "a432cb74",
   "metadata": {},
   "source": [
    "#### Ejemplo"
   ]
  },
  {
   "cell_type": "markdown",
   "id": "6665800a",
   "metadata": {},
   "source": [
    "Usando data generada aleatoriamente, tenemos su representación 2D como se muestra en la imagen:"
   ]
  },
  {
   "cell_type": "markdown",
   "id": "704f1eb5",
   "metadata": {},
   "source": [
    "![Image8](imgs/img09.png)"
   ]
  },
  {
   "cell_type": "code",
   "execution_count": null,
   "id": "99d9861c",
   "metadata": {},
   "outputs": [],
   "source": [
    "def model1(x):\n",
    "    if x[0] < 0.25:\n",
    "        return 1\n",
    "    else:\n",
    "        return 0\n",
    "plot(s, model1)"
   ]
  },
  {
   "cell_type": "markdown",
   "id": "b9ac3bbd",
   "metadata": {},
   "source": [
    "![Image9](imgs/img10.png)"
   ]
  },
  {
   "cell_type": "markdown",
   "id": "e00518f9",
   "metadata": {},
   "source": [
    "En este modelo se seccionan los datos usando su variable horizontal"
   ]
  },
  {
   "cell_type": "code",
   "execution_count": null,
   "id": "d8da507e",
   "metadata": {
    "scrolled": true
   },
   "outputs": [],
   "source": [
    "def model2(x):\n",
    "    if x[0] < 0.25:\n",
    "        return 1\n",
    "    if x[0] > 0.5 and x[1] > 0.6:\n",
    "        return 1\n",
    "    else:\n",
    "        return 0\n",
    "plot(s, model2)"
   ]
  },
  {
   "cell_type": "markdown",
   "id": "dc57dd0e",
   "metadata": {},
   "source": [
    "![Image10](imgs/img11.png)"
   ]
  },
  {
   "cell_type": "markdown",
   "id": "bd3db277",
   "metadata": {},
   "source": [
    "En este otro modelo, se agrega una división que toma en cuenta tanto la variable horizontal como la variable vertical"
   ]
  },
  {
   "cell_type": "markdown",
   "id": "f2d5beae",
   "metadata": {},
   "source": [
    "## Parámetros"
   ]
  },
  {
   "cell_type": "markdown",
   "id": "4ecf2d09",
   "metadata": {},
   "source": [
    "De acuerdo a lo analizado en el estudio de las clases de modelos, nos decidiremos por un modelo. Una vez obtenido la clase de modelo con el que queremos trabajar, surge la necesidad de poder mover el modelo dentro de su clase."
   ]
  },
  {
   "cell_type": "code",
   "execution_count": null,
   "id": "56e4df34",
   "metadata": {},
   "outputs": [],
   "source": [
    "def make_model(param):\n",
    "    def model(x):\n",
    "        if x[0] < param:\n",
    "            return 1\n",
    "        else:\n",
    "            return 0\n",
    "    return model"
   ]
  },
  {
   "cell_type": "markdown",
   "id": "86485207",
   "metadata": {},
   "source": [
    "Teniendo en cuenta la funcion anterior, veamos los gráficos para $param = 0.4$ y $param = 0.6$"
   ]
  },
  {
   "cell_type": "markdown",
   "id": "949f0c27",
   "metadata": {},
   "source": [
    "![Image11](imgs/img12.png)\n",
    "![Image12](imgs/img13.png)"
   ]
  },
  {
   "cell_type": "markdown",
   "id": "aa5dfadd",
   "metadata": {},
   "source": [
    "En este primer ejemplo vemos uno de los cambios que se pueden realizar, que es como una traslación.\n",
    "\n",
    "Otro cambio que se le puede realizar al modelo se puede visualizar como una rotación."
   ]
  },
  {
   "cell_type": "markdown",
   "id": "bb52b3d5",
   "metadata": {},
   "source": [
    "![Image13](imgs/img14.png)"
   ]
  },
  {
   "cell_type": "markdown",
   "id": "72cfa629",
   "metadata": {},
   "source": [
    "Los parámetros son un conjunto números que influyen en en las decisiones que toma el modelo. Esto nos dice que los parámetros son un factor necesario para que un modelo tome decisiones respecto a un punto de la data.\n",
    "\n",
    "Para los modelos de regresión lineal y clasificación binaria, se tiene el siguiente modelo:\n",
    "\n",
    "$m(x_1,x_2;w_1,w_2,b)=x_1 \\times w_1 + x_2 \\times w_2 + b$\n",
    "\n",
    "Siendo $w_1, w_2, b$ los parámetros y  $x_1, x_2$ los datos de entrada."
   ]
  },
  {
   "cell_type": "code",
   "execution_count": null,
   "id": "e20fcd86",
   "metadata": {},
   "outputs": [],
   "source": [
    "def make_linear(w1, w2, b):\n",
    "    def model(x):\n",
    "        return 1 if (x[0] * w1 + x[1] * w2 + b > 0.0) else 0\n",
    "    return model"
   ]
  },
  {
   "cell_type": "markdown",
   "id": "b92c1ad2",
   "metadata": {},
   "source": [
    "Este modelo predice $\\textbf{X}$ si el valor de $m$ es mayor que 1 y $\\textbf{O}$ en caso contrario."
   ]
  },
  {
   "cell_type": "markdown",
   "id": "7aa4b3d6",
   "metadata": {},
   "source": [
    "## Pérdida"
   ]
  },
  {
   "cell_type": "markdown",
   "id": "25ce904c",
   "metadata": {},
   "source": [
    "Normalmente se nota facilmente cuando un modelo realiza bien su trabajo de clasificación. De igual manera, hay veces en las que el modelo no hace bien dicho trabajo.\n",
    "\n",
    "Con el objetivo de poder hallar un buen modelo, es imperativo saber lo que es bueno y malo. Usando una función de pérdida, esto es posible. Un buen modelo es aquel que hace su función de perdida lo mínimo posible.\n",
    "\n",
    "La manera en como se puede determinar esto es analizando la distancia y la dirección de cada punto respecto al límite de decisión. Se demuestra que dicha distancia es el valor absoluto de la función $m()$ mencionada anteriormente."
   ]
  },
  {
   "cell_type": "markdown",
   "id": "d5a9a2e9",
   "metadata": {},
   "source": [
    "![Image14](imgs/img15.png)"
   ]
  },
  {
   "cell_type": "markdown",
   "id": "dbb4203a",
   "metadata": {},
   "source": [
    "Los puntos de puede clasificar en 3 categorias:\n",
    "\n",
    "- Bueno: Si el punto en cuestión se encuentra alejado del límite de decisión.\n",
    "- Preocupante: Si el punto en cuestión se encuentra cerca del límite de decisión.\n",
    "- Malo: Si el punto en cuestión se encuentra del lado equivocado del límite de decisión."
   ]
  },
  {
   "cell_type": "markdown",
   "id": "a8ea277b",
   "metadata": {},
   "source": [
    "La pérdida discutida se calcula en función de la distancia. Una de las funciones más usadas para esto es la función $sigmoide$. Para valores negativos se aproxima a 0 y para valores positivos, a 1. Formandose una gáfica en forma de $S$"
   ]
  },
  {
   "cell_type": "markdown",
   "id": "54e31ec1",
   "metadata": {},
   "source": [
    "![Image15](imgs/img16.png)"
   ]
  },
  {
   "cell_type": "markdown",
   "id": "ff0850ce",
   "metadata": {},
   "source": [
    "La pérdida total del modelo es producto de cada perdida individual de los puntos. Siendo un buen modelo el que tiene menor pérdida a comparación de otro."
   ]
  },
  {
   "cell_type": "markdown",
   "id": "cd546f23",
   "metadata": {},
   "source": [
    "## Fitting Parameters"
   ]
  },
  {
   "cell_type": "markdown",
   "id": "e4bcaee8",
   "metadata": {},
   "source": [
    "Con todos los pasos seguidos hasta el momento, falta definir un buen modelo a partir de la pérdida obtenida a partir de la función de pérdida. Este paso se conoce como $\\textit{fitting parameters}$(Ajuste de parámetros).\n",
    "\n",
    "Realizar este paso causa dificultades debido a que, generalmente, se trabajan con una cantidad de parametros extensa. Esto demanda una capacidad computacional alta.\n",
    "\n",
    "El módulo $minitorch$, es una herramienta que nos ayudará al momento de ajustar parámetros para problemas de clasificación supervisada de una manera automática y eficiente. Este módulo trabaja con una forma de ajuste de parámetros: $\\textit{gradient descent}$. Funciona de la siguiente manera:\n",
    "\n",
    "- Calcular la función de pérdida($L$) para la data.\n",
    "- Analizar como pequeños cambios a los parámetros afectarían la pérdida.\n",
    "- Actualizar los parámetros con un cambio menor en la dirección que la pérdida local(de cada punto) reduzca la pérdida.\n"
   ]
  },
  {
   "cell_type": "markdown",
   "id": "187d7890",
   "metadata": {},
   "source": [
    "Usemos como ejemplo el siguiente modelo"
   ]
  },
  {
   "cell_type": "markdown",
   "id": "434184d6",
   "metadata": {},
   "source": [
    "![Image16](imgs/img06.png)"
   ]
  },
  {
   "cell_type": "markdown",
   "id": "70570828",
   "metadata": {},
   "source": [
    "Es fácil notar que el modelo tiene una pérdida alta, y tenemos que considerar los cambios vistos en $\\textbf{Parámetros}$ para poder ajustar los parámetros del modelo. Específicamente veremos la traslación para poder mejorar el modelo."
   ]
  },
  {
   "cell_type": "markdown",
   "id": "e5e88e9d",
   "metadata": {},
   "source": [
    "![Image17](imgs/img17.png)"
   ]
  },
  {
   "cell_type": "markdown",
   "id": "982cabbd",
   "metadata": {},
   "source": [
    "Esta solución se dio gracias a la simplicidad de el conjunto de dato y sus pocos parámetros. Para un caso más general, en el que el conjunto de datos tiene millones de parámetros, esto tomaría un tiempo extenso. \n",
    "\n",
    "La manera más óptima de realizar esto sería utilizando el cálculo y tomando la derivada parcial de la función de pérdida respecto a cada parámetro $L^{'}_{b}$. Tomando el conjunto de las derivadas de todos los parámetros(gradiente), obtendremos la dirección en la que se deberá mover la función."
   ]
  },
  {
   "cell_type": "markdown",
   "id": "84bc66f1",
   "metadata": {},
   "source": [
    "## Redes Neuronales"
   ]
  },
  {
   "cell_type": "markdown",
   "id": "bbd4a31e",
   "metadata": {},
   "source": [
    "El modelo visto en los pasos anteriores nos ha servido debido a la simplicidad del conjunto de datos analizados. Este modelo encuentra limitaciones al momento en que la data se separa en múltiples secciones."
   ]
  },
  {
   "cell_type": "markdown",
   "id": "0ef76377",
   "metadata": {},
   "source": [
    "![Image18](imgs/img18.png)"
   ]
  },
  {
   "cell_type": "markdown",
   "id": "7775d80e",
   "metadata": {},
   "source": [
    "Una clase de modelo alternativo es la de redes neuronales. Estas se usan para especificar un mayor rango de secciones. Dicho esto, se sobreentiende que estas redes seccionarán usando más de 2 separadores. Cada uno de estos separadores es un modelo lineal. \n",
    "\n",
    "Una red neuronal separaria esta data en una sección amarilla para los puntos rojos superiores y otra sección verde para el resto de los puntos rojos."
   ]
  },
  {
   "cell_type": "markdown",
   "id": "d93e7f47",
   "metadata": {},
   "source": [
    "![Image19](imgs/img19.png)\n",
    "![Image20](imgs/img20.png)"
   ]
  },
  {
   "cell_type": "markdown",
   "id": "1fe2abc3",
   "metadata": {},
   "source": [
    "Esta red neuronal puede transformar los puntos basado la distancia de los puntos respecto a estos separadores. Idealmente se usa la función ReLU($\\textit{Rectified Linear Unit}$), que se podría decir que se \"activa\" cuando toma valores positivos.\n",
    "\n",
    "Para el caso del separador amarillo, tenemos el gráfico siguiente"
   ]
  },
  {
   "cell_type": "markdown",
   "id": "bb5d7feb",
   "metadata": {},
   "source": [
    "![Image21](imgs/img21.png)"
   ]
  },
  {
   "cell_type": "markdown",
   "id": "bd1f2c92",
   "metadata": {},
   "source": [
    "Del gráfico notamos que los $\\textbf{X}$ positivos son los que estan dentro de la sección amarilla. Por otro lado, los $\\textbf{O}$ y $\\textbf{X}$ son 0 debido a que no estan en la sección amarilla. Algo similar sucede con la sección verde.\n",
    "\n",
    "Teniendo en cuenta estas 2 secciones, estos se puede usar como nuevos $x_1, x_2$. Resultando en el siguiente gráfico."
   ]
  },
  {
   "cell_type": "markdown",
   "id": "47997b29",
   "metadata": {},
   "source": [
    "![Image22](imgs/img22.png)"
   ]
  },
  {
   "cell_type": "markdown",
   "id": "404d719a",
   "metadata": {},
   "source": [
    "Este proceso crearía las 2 secciones vistas al inicio de este apartado. Volviendo al modelo inicial, obtendríamos la siguiente imagen\n",
    "\n",
    "![Image23](imgs/img01.png)"
   ]
  },
  {
   "cell_type": "markdown",
   "id": "6fb20ac6",
   "metadata": {},
   "source": [
    "Viendo todo desde un punto de vista matemático, se puede ver la información transformada como $h_1, h_2$ que se obtienen de aplicar ReLU a diferentes parámetros de la data inicial. \n",
    "\n",
    "\n",
    "$h_ 1 =ReLU(x_1 \\times w^0_1 + x_2 \\times w^0_2 + b^0)$\n",
    "\n",
    "$h_ 2=ReLU(x_1 \\times w^1_1 + x_2 \\times w^1_2 + b^1)$\n",
    "\n",
    "$m(x_1, x_2) = h_1 \\times w_1 + h_2 \\times w_2 + b$\n",
    "\n",
    "\n",
    "Donde $w_1, w_2, w^{0}_1, w^{0}_2, w^{1}_1, w^{1}_2, b, b^1, b^2$ son los parámetros. Los modelos llegan a ser más flexibles cuando se ven en la necesidad de ajustar una cantidad mayor de parámetros."
   ]
  },
  {
   "cell_type": "code",
   "execution_count": null,
   "id": "848ced4d",
   "metadata": {},
   "outputs": [],
   "source": []
  }
 ],
 "metadata": {
  "kernelspec": {
   "display_name": "Python 3",
   "language": "python",
   "name": "python3"
  },
  "language_info": {
   "codemirror_mode": {
    "name": "ipython",
    "version": 3
   },
   "file_extension": ".py",
   "mimetype": "text/x-python",
   "name": "python",
   "nbconvert_exporter": "python",
   "pygments_lexer": "ipython3",
   "version": "3.9.4"
  }
 },
 "nbformat": 4,
 "nbformat_minor": 5
}
